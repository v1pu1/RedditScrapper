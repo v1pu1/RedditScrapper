{
 "cells": [
  {
   "cell_type": "code",
   "execution_count": 1,
   "metadata": {},
   "outputs": [],
   "source": [
    "import os\n",
    "dir=[\"Holup\",\"IndianDankMemes\",\"ksi\",\"memes\",\"MemesForDays\",\"Religiousfruitcake\"]\n",
    "\n",
    "parent_dir='C:/Users/chira/Desktop/RedditScrapper/'\n",
    "# for directory in dir:\n",
    "#     path=os.path.join(parent_dir,directory)\n",
    "#     os.mkdir(path)"
   ]
  },
  {
   "cell_type": "code",
   "execution_count": 2,
   "metadata": {},
   "outputs": [],
   "source": [
    "import praw\n",
    "reddit = praw.Reddit(client_id='TvRlbJslNhDSr6y1zvTtgw', client_secret='TOqQer8umP_hzIy5beLDTDd712f26w', user_agent='scrap')"
   ]
  },
  {
   "cell_type": "code",
   "execution_count": 3,
   "metadata": {},
   "outputs": [],
   "source": [
    "# submission = reddit.submission(id='x8xje4')\n",
    "\n",
    "# comments=[]\n",
    "\n",
    "# submission.comments.replace_more(limit=100)\n",
    "# for top_level_comment in submission.comments.list():\n",
    "#     print(top_level_comment.body)\n",
    "\n",
    "import pandas as pd \n",
    "files = ['Holup.csv','IndianDankMemes.csv','ksi.csv','memes.csv','MemesForDays.csv','religiousfruitcake.csv']\n",
    "\n",
    "for i in range(len(files)):\n",
    "    path=parent_dir+'/'+dir[i]\n",
    "    data=pd.read_csv(files[i])\n",
    "    for id in data['id']:\n",
    "        cur_path=path+'/'+id+'.csv' \n",
    "        submission = reddit.submission(id=id)\n",
    "        cur_comments=[]\n",
    "        submission.comments.replace_more(limit=100)\n",
    "        count=0\n",
    "        for comment in submission.comments.list():\n",
    "            cur_comments.append(comment.body)\n",
    "            count+=1\n",
    "            if(count==101):\n",
    "                break\n",
    "        \n",
    "        df=pd.DataFrame({'Comments':cur_comments})\n",
    "        df.to_csv(cur_path)"
   ]
  }
 ],
 "metadata": {
  "kernelspec": {
   "display_name": "Python 3.10.5 64-bit",
   "language": "python",
   "name": "python3"
  },
  "language_info": {
   "codemirror_mode": {
    "name": "ipython",
    "version": 3
   },
   "file_extension": ".py",
   "mimetype": "text/x-python",
   "name": "python",
   "nbconvert_exporter": "python",
   "pygments_lexer": "ipython3",
   "version": "3.10.5"
  },
  "orig_nbformat": 4,
  "vscode": {
   "interpreter": {
    "hash": "369f2c481f4da34e4445cda3fffd2e751bd1c4d706f27375911949ba6bb62e1c"
   }
  }
 },
 "nbformat": 4,
 "nbformat_minor": 2
}
